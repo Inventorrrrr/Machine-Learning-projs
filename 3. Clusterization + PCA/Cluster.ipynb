{
 "cells": [
  {
   "cell_type": "code",
   "execution_count": null,
   "metadata": {},
   "outputs": [],
   "source": [
    "import numpy as np \n",
    "import pandas as pd"
   ]
  },
  {
   "cell_type": "code",
   "execution_count": null,
   "metadata": {},
   "outputs": [],
   "source": [
    "from sklearn.cluster import KMeans \n",
    "df = pd.read_csv('Desktop/Новая папка/Data/dataset/3. Clusterization + PCA/world-happiness-report-2021.csv') \n",
    "cols = list(df.columns)[5:11] \n",
    "df = df[cols] \n",
    "df.tail()\n"
   ]
  },
  {
   "cell_type": "code",
   "execution_count": null,
   "metadata": {},
   "outputs": [],
   "source": [
    "from sklearn.preprocessing import StandardScaler \n",
    "X = StandardScaler().fit_transform(df) "
   ]
  },
  {
   "cell_type": "code",
   "execution_count": null,
   "metadata": {},
   "outputs": [],
   "source": [
    "df_ = df[df.index == 'Uzbekistan'] \n",
    "df_"
   ]
  },
  {
   "cell_type": "code",
   "execution_count": null,
   "metadata": {},
   "outputs": [],
   "source": [
    "from scipy.cluster.hierarchy import linkage, dendrogram, fcluster \n",
    "import matplotlib.pyplot as plt \n",
    "merging = linkage(X, method='ward') \n",
    "plt.figure(figsize=(20,20)) \n",
    "# Строим дендрограмму \n",
    "dendrogram(merging, labels=df.index, leaf_font_size=10) \n",
    "plt.show()"
   ]
  },
  {
   "cell_type": "code",
   "execution_count": null,
   "metadata": {},
   "outputs": [],
   "source": [
    "clusters = fcluster(merging, 15, criterion='distance') \n",
    "print(clusters)"
   ]
  },
  {
   "cell_type": "code",
   "execution_count": null,
   "metadata": {},
   "outputs": [],
   "source": [
    "# Кластеризация методом k-средних на 3 кластера \n",
    "kmeans = KMeans(n_clusters=4) \n",
    "kmeans.fit(X) \n",
    "labels = kmeans.predict(X) \n",
    "# Вывод результатов в виде словаря \n",
    "print(dict(zip(df.index, labels)))"
   ]
  },
  {
   "cell_type": "code",
   "execution_count": null,
   "metadata": {},
   "outputs": [],
   "source": [
    "# Подберём наилучшее количество кластеров (\"правило локтя\") \n",
    "\n",
    "# crit = [] \n",
    "# for k in range(2, 7): \n",
    "# kmeans = KMeans(n_clusters=k, random_state=15) \n",
    "# kmeans.fit(X) \n",
    "# crit.append(kmeans.inertia_) \n",
    "# plt.plot(range(2,7), crit) \n",
    "# plt.show()"
   ]
  },
  {
   "cell_type": "markdown",
   "metadata": {},
   "source": [
    "### Добавляем фичу, которая описывает в какой класс входит фича"
   ]
  },
  {
   "cell_type": "code",
   "execution_count": null,
   "metadata": {},
   "outputs": [],
   "source": [
    "df['cluster'] = kmeans.labels_ \n",
    "print(set(kmeans.labels_)) \n",
    "df.tail()"
   ]
  },
  {
   "cell_type": "code",
   "execution_count": null,
   "metadata": {},
   "outputs": [],
   "source": [
    "from sklearn.decomposition import PCA \n",
    "pca = PCA(n_components = 2) \n",
    "pca.fit(X) \n",
    "Z = pca.transform(X) \n",
    "print(Z)\n"
   ]
  },
  {
   "cell_type": "code",
   "execution_count": null,
   "metadata": {},
   "outputs": [],
   "source": [
    "print(pca.explained_variance_) \n",
    "print(pca.explained_variance_ratio_)\n",
    "#здесь видим, какой процент информации находится в какой компоненте "
   ]
  },
  {
   "cell_type": "code",
   "execution_count": null,
   "metadata": {},
   "outputs": [],
   "source": [
    "plt.plot(Z[labels == 0,0], Z[labels == 0,1], 'bo', label='Clauster 1') \n",
    "plt.plot(Z[labels == 1,0], Z[labels == 1,1], 'go', label='Clauster 2') \n",
    "plt.plot(Z[labels == 2,0], Z[labels == 2,1], 'ro', label='Clauster 3') \n",
    "plt.plot(Z[labels == 3,0], Z[labels == 3,1], 'yo', label='Clauster 4')\n",
    "plt.legend(loc=4) "
   ]
  },
  {
   "cell_type": "code",
   "execution_count": null,
   "metadata": {},
   "outputs": [],
   "source": [
    "loadings = pca.components_.T * np.sqrt(pca.explained_variance_) \n",
    "loading_matrix = pd.DataFrame(loadings, columns=['PC1', 'PC2'], index=df.columns[:-1]) \n",
    "loading_matrix.sort_values(by=['PC1'],inplace=True) \n",
    "print(loading_matrix) \n",
    "loading_matrix.sort_values(by=['PC2'],inplace=True) \n",
    "print(loading_matrix) "
   ]
  },
  {
   "cell_type": "code",
   "execution_count": null,
   "metadata": {},
   "outputs": [],
   "source": [
    "#Смотреть график выше \n",
    "#исходим из данных выше, ось X - развитость экономики, ось Y - щедрость/доброта людей \n",
    "print(df.index[np.argmin(Z[:,1])])\n",
    "#самые злые люди \n",
    "print(df.index[np.argmax(Z[:,0])]) \n",
    "#самая экономически неразвитая страна "
   ]
  },
  {
   "cell_type": "code",
   "execution_count": null,
   "metadata": {},
   "outputs": [],
   "source": [
    "print(df.index[np.np.argmin(Z[:, 0])])\n",
    "#самая экономически развитая страна"
   ]
  }
 ],
 "metadata": {
  "kernelspec": {
   "display_name": "Python 3",
   "language": "python",
   "name": "python3"
  },
  "language_info": {
   "codemirror_mode": {
    "name": "ipython",
    "version": 3
   },
   "file_extension": ".py",
   "mimetype": "text/x-python",
   "name": "python",
   "nbconvert_exporter": "python",
   "pygments_lexer": "ipython3",
   "version": "3.7.6"
  }
 },
 "nbformat": 4,
 "nbformat_minor": 4
}
